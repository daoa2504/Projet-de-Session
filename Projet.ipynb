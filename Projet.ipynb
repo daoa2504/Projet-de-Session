{
 "cells": [
  {
   "cell_type": "markdown",
   "metadata": {},
   "source": [
    "# IFT712 - Projet de session\n",
    "\n",
    "* 6 méthodes de classification \n",
    "* Analyse des données\n",
    "* Recherche d'hyperparamètres\n",
    "* Visualisation des résultats"
   ]
  },
  {
   "cell_type": "markdown",
   "metadata": {},
   "source": [
    "# Configuration"
   ]
  },
  {
   "cell_type": "code",
   "execution_count": null,
   "metadata": {},
   "outputs": [],
   "source": [
    "# Vérifier si les bibliothèques nécessaires sont déjà installées\n",
    "try:\n",
    "    import pandas as pd\n",
    "    import numpy as np\n",
    "    import sklearn\n",
    "    import matplotlib\n",
    "    import seaborn\n",
    "    import os\n",
    "    import warnings\n",
    "    import plotly.express as px\n",
    "\n",
    "    print(\"Les bibliothèques sont déjà installées.\")\n",
    "except ImportError:\n",
    "    # Installer les bibliothèques manquantes\n",
    "    %pip install pandas numpy scikit-learn matplotlib seaborn os warnings plotly.express\n",
    "\n",
    "    # Redémarrer le noyau du notebook après l'installation (optionnel)\n",
    "    # Pour effectuer le redémarrage automatique, décommentez la ligne suivante\n",
    "    # import IPython\n",
    "    # IPython.Application.instance().kernel.do_shutdown(True)"
   ]
  },
  {
   "cell_type": "code",
   "execution_count": 54,
   "metadata": {},
   "outputs": [
    {
     "name": "stdout",
     "output_type": "stream",
     "text": [
      "The autoreload extension is already loaded. To reload it, use:\n",
      "  %reload_ext autoreload\n"
     ]
    }
   ],
   "source": [
    "'''\n",
    "    Imporation des bibliothèques python générales\n",
    "'''\n",
    "import numpy as np\n",
    "import itertools\n",
    "from sklearn.datasets import make_classification\n",
    "import os\n",
    "import warnings\n",
    "import seaborn as sns\n",
    "import matplotlib.pyplot as plt\n",
    "import plotly.express as px\n",
    "from sklearn.preprocessing import LabelEncoder\n",
    "\n",
    "'''\n",
    "    Imporation des bibliothèques spécifiques au projet\n",
    "'''\n",
    "import utils\n",
    "from linear_classifier import LinearClassifier\n",
    "from two_layer_classifier import TwoLayerClassifier\n",
    "\n",
    "\"\"\"\n",
    "    Préludes\n",
    "\"\"\"\n",
    "warnings.filterwarnings(\"ignore\")\n",
    "pd.set_option(\"display.max_rows\",None)\n",
    "matplotlib.style.use('ggplot')"
   ]
  },
  {
   "cell_type": "markdown",
   "metadata": {},
   "source": [
    "# Données du projet : la classification linéaire ...\n",
    "\n",
    "https://www.kaggle.com/datasets/rashikrahmanpritom/heart-attack-analysis-prediction-dataset?select=heart.csv"
   ]
  },
  {
   "cell_type": "code",
   "execution_count": null,
   "metadata": {},
   "outputs": [],
   "source": [
    "# Importer les données, visualiser le dataframe, expliquer le contenu des variables etc.\n",
    "# Voir class DataManager():"
   ]
  },
  {
   "cell_type": "markdown",
   "metadata": {},
   "source": [
    "Séparer le jeu de données en trois parties: l'ensemble **d'entraînement**, de **validation** et de **test** (_train_, _val_ et _test_)."
   ]
  },
  {
   "cell_type": "code",
   "execution_count": null,
   "metadata": {},
   "outputs": [],
   "source": [
    "# CODE \n",
    "# Voir class DataManager():"
   ]
  },
  {
   "cell_type": "markdown",
   "metadata": {},
   "source": [
    "# Analyse exploratoire des données"
   ]
  },
  {
   "cell_type": "markdown",
   "metadata": {},
   "source": [
    "### Matrice de correlation "
   ]
  },
  {
   "cell_type": "code",
   "execution_count": null,
   "metadata": {},
   "outputs": [],
   "source": []
  },
  {
   "cell_type": "markdown",
   "metadata": {},
   "source": [
    "### Distribution de quelques variables par rapport à la cible\n",
    "* On observe les distibution d'une variable suivant les classes cibles. Par exemple : la distritution de la variable \"sex\" par rapport à la cible \"HeartDisease\""
   ]
  },
  {
   "cell_type": "code",
   "execution_count": null,
   "metadata": {},
   "outputs": [],
   "source": []
  },
  {
   "cell_type": "markdown",
   "metadata": {},
   "source": [
    "### Distribution de toutes les variables "
   ]
  },
  {
   "cell_type": "code",
   "execution_count": null,
   "metadata": {},
   "outputs": [],
   "source": []
  },
  {
   "cell_type": "markdown",
   "metadata": {},
   "source": [
    "### Boite à moustache (Boxplot)\n",
    "* Aide à voir les valeurs statistiques comme la moyenne, les quartiles, et surtout les valeurs abérrantes"
   ]
  },
  {
   "cell_type": "code",
   "execution_count": null,
   "metadata": {},
   "outputs": [],
   "source": []
  },
  {
   "cell_type": "markdown",
   "metadata": {},
   "source": [
    "# Nettoyage des données\n",
    "\n",
    "* Gestion des valeurs NaN ou valeurs manquantes\n",
    "\n",
    "* Mise à l'échelle des variables\n",
    "\n",
    "* Gestion des variables catégorielles"
   ]
  },
  {
   "cell_type": "markdown",
   "metadata": {},
   "source": [
    "### Gestion des NaN ou valeurs manquantes"
   ]
  },
  {
   "cell_type": "code",
   "execution_count": null,
   "metadata": {},
   "outputs": [],
   "source": [
    "# Utiliser DataProcessor > scale_features()"
   ]
  },
  {
   "cell_type": "markdown",
   "metadata": {},
   "source": [
    "### Mise à l'échelle des variables"
   ]
  },
  {
   "cell_type": "code",
   "execution_count": null,
   "metadata": {},
   "outputs": [],
   "source": [
    "# Utiliser DataProcessor > andle_missing_values()"
   ]
  },
  {
   "cell_type": "markdown",
   "metadata": {},
   "source": [
    "### Gestion des variables catégorielles"
   ]
  },
  {
   "cell_type": "code",
   "execution_count": null,
   "metadata": {},
   "outputs": [],
   "source": [
    "# Utiliser DataProcessor > handle_categorical_variables()"
   ]
  },
  {
   "cell_type": "markdown",
   "metadata": {},
   "source": [
    "# Entrainer les données sur les 6 algorithmes\n",
    "* Algorithmes choisis : \n",
    "    - Random Forest Classifier,\n",
    "    - AdaBoost Classifier, \n",
    "    - Logistic Regression, \n",
    "    - MLP Classifier\n",
    "    - SVM\n",
    "    - Linear Discriminant Analysis\n",
    "* Séparer les données en esembles de d'entraienement, de validation et de test.\n",
    "* Faire la validation croisée stratifiée. \n",
    "* Implémenter la recherche d'hyperparamètres\n",
    "* Visualiser les courbes d'apprentissage et de validation"
   ]
  },
  {
   "cell_type": "markdown",
   "metadata": {},
   "source": [
    "### Rechercher de meilleurs hyperparamètres\n"
   ]
  },
  {
   "cell_type": "code",
   "execution_count": null,
   "metadata": {},
   "outputs": [],
   "source": []
  },
  {
   "cell_type": "markdown",
   "metadata": {},
   "source": [
    "# Vérifier la généralisation sur l'ensemble de test avec les meilleurs huperparamètres"
   ]
  },
  {
   "cell_type": "code",
   "execution_count": null,
   "metadata": {},
   "outputs": [],
   "source": []
  },
  {
   "cell_type": "markdown",
   "metadata": {},
   "source": [
    "# Tracer les frontières de décision (si possible)\n",
    "* On pourra sélectioner 2 ou 3 variables les plus importantes pour la classification\n",
    "\n"
   ]
  }
 ],
 "metadata": {
  "kernelspec": {
   "display_name": "Python 3 (ipykernel)",
   "language": "python",
   "name": "python3"
  },
  "language_info": {
   "codemirror_mode": {
    "name": "ipython",
    "version": 3
   },
   "file_extension": ".py",
   "mimetype": "text/x-python",
   "name": "python",
   "nbconvert_exporter": "python",
   "pygments_lexer": "ipython3",
   "version": "3.8.8"
  },
  "pycharm": {
   "stem_cell": {
    "cell_type": "raw",
    "metadata": {
     "collapsed": false
    },
    "source": []
   }
  }
 },
 "nbformat": 4,
 "nbformat_minor": 2
}
